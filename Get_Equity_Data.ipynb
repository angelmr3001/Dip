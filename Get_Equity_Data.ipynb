{
  "nbformat": 4,
  "nbformat_minor": 0,
  "metadata": {
    "colab": {
      "provenance": [],
      "authorship_tag": "ABX9TyNH1hV5PkYsRjq8dDCEoHgi",
      "include_colab_link": true
    },
    "kernelspec": {
      "name": "python3",
      "display_name": "Python 3"
    },
    "language_info": {
      "name": "python"
    }
  },
  "cells": [
    {
      "cell_type": "markdown",
      "metadata": {
        "id": "view-in-github",
        "colab_type": "text"
      },
      "source": [
        "<a href=\"https://colab.research.google.com/github/angelmr3001/Dip/blob/main/Get_Equity_Data.ipynb\" target=\"_parent\"><img src=\"https://colab.research.google.com/assets/colab-badge.svg\" alt=\"Open In Colab\"/></a>"
      ]
    },
    {
      "cell_type": "code",
      "execution_count": 5,
      "metadata": {
        "colab": {
          "base_uri": "https://localhost:8080/"
        },
        "id": "yEsRvyrdnDdw",
        "outputId": "638123f8-239b-4103-a661-41a40775eb40"
      },
      "outputs": [
        {
          "output_type": "stream",
          "name": "stderr",
          "text": [
            "\r[*********************100%***********************]  1 of 1 completed\n"
          ]
        }
      ],
      "source": [
        "import yfinance as yf\n",
        "\n",
        "symbol = 'WALMEX.MX'\n",
        "start_date = '2001-01-01'\n",
        "\n",
        "df = yf.download(symbol, start = start_date)"
      ]
    },
    {
      "cell_type": "code",
      "source": [
        "print(df)"
      ],
      "metadata": {
        "colab": {
          "base_uri": "https://localhost:8080/"
        },
        "id": "_D9rLWsynnoo",
        "outputId": "6e29d551-a534-4d8f-b91d-16cfe454a792"
      },
      "execution_count": 6,
      "outputs": [
        {
          "output_type": "stream",
          "name": "stdout",
          "text": [
            "Price                      Adj Close      Close       High        Low  \\\n",
            "Ticker                     WALMEX.MX  WALMEX.MX  WALMEX.MX  WALMEX.MX   \n",
            "Date                                                                    \n",
            "2003-01-01 00:00:00+00:00   4.281137   5.879949   5.946570   5.724499   \n",
            "2003-01-02 00:00:00+00:00   4.281137   5.879949   5.946570   5.724499   \n",
            "2003-01-03 00:00:00+00:00   4.275748   5.872546   5.909558   5.850339   \n",
            "2003-01-06 00:00:00+00:00   4.444620   6.104487   6.116825   5.872546   \n",
            "2003-01-07 00:00:00+00:00   4.342219   5.963842   6.104487   5.951505   \n",
            "...                              ...        ...        ...        ...   \n",
            "2024-11-11 00:00:00+00:00  55.380001  55.380001  55.950001  55.020000   \n",
            "2024-11-12 00:00:00+00:00  55.730000  55.730000  56.090000  55.090000   \n",
            "2024-11-13 00:00:00+00:00  56.459999  56.459999  56.500000  55.200001   \n",
            "2024-11-14 00:00:00+00:00  54.950001  54.950001  56.700001  54.799999   \n",
            "2024-11-15 00:00:00+00:00  55.060001  55.060001  55.439999  54.810001   \n",
            "\n",
            "Price                           Open    Volume  \n",
            "Ticker                     WALMEX.MX WALMEX.MX  \n",
            "Date                                            \n",
            "2003-01-01 00:00:00+00:00   5.724499         0  \n",
            "2003-01-02 00:00:00+00:00   5.724499   8334330  \n",
            "2003-01-03 00:00:00+00:00   5.872546  18475096  \n",
            "2003-01-06 00:00:00+00:00   5.872546  16180223  \n",
            "2003-01-07 00:00:00+00:00   6.104487  15261074  \n",
            "...                              ...       ...  \n",
            "2024-11-11 00:00:00+00:00  55.950001  15952094  \n",
            "2024-11-12 00:00:00+00:00  55.279999  21379618  \n",
            "2024-11-13 00:00:00+00:00  55.860001  20070215  \n",
            "2024-11-14 00:00:00+00:00  56.630001  21665319  \n",
            "2024-11-15 00:00:00+00:00  55.389999  14505205  \n",
            "\n",
            "[5536 rows x 6 columns]\n"
          ]
        }
      ]
    }
  ]
}