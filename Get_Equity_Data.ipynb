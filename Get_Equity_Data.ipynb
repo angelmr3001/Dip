{
  "nbformat": 4,
  "nbformat_minor": 0,
  "metadata": {
    "colab": {
      "provenance": [],
      "authorship_tag": "ABX9TyOAUE4/elXBx6xd7MEafDs2",
      "include_colab_link": true
    },
    "kernelspec": {
      "name": "python3",
      "display_name": "Python 3"
    },
    "language_info": {
      "name": "python"
    }
  },
  "cells": [
    {
      "cell_type": "markdown",
      "metadata": {
        "id": "view-in-github",
        "colab_type": "text"
      },
      "source": [
        "<a href=\"https://colab.research.google.com/github/angelmr3001/Dip/blob/main/Get_Equity_Data.ipynb\" target=\"_parent\"><img src=\"https://colab.research.google.com/assets/colab-badge.svg\" alt=\"Open In Colab\"/></a>"
      ]
    },
    {
      "cell_type": "code",
      "source": [
        "%load_ext rpy2.ipython\n",
        "!rm -rf Dip\n",
        "!git clone \"https://github.com/angelmr3001/Dip.git\""
      ],
      "metadata": {
        "id": "g4IrbtyMtPoV",
        "outputId": "985351da-11a7-491e-ef9e-2377bcee282d",
        "colab": {
          "base_uri": "https://localhost:8080/"
        }
      },
      "execution_count": 12,
      "outputs": [
        {
          "output_type": "stream",
          "name": "stdout",
          "text": [
            "The rpy2.ipython extension is already loaded. To reload it, use:\n",
            "  %reload_ext rpy2.ipython\n",
            "Cloning into 'Dip'...\n",
            "remote: Enumerating objects: 9, done.\u001b[K\n",
            "remote: Counting objects: 100% (9/9), done.\u001b[K\n",
            "remote: Compressing objects: 100% (7/7), done.\u001b[K\n",
            "remote: Total 9 (delta 1), reused 0 (delta 0), pack-reused 0 (from 0)\u001b[K\n",
            "Receiving objects: 100% (9/9), done.\n",
            "Resolving deltas: 100% (1/1), done.\n"
          ]
        }
      ]
    },
    {
      "cell_type": "code",
      "execution_count": 13,
      "metadata": {
        "colab": {
          "base_uri": "https://localhost:8080/"
        },
        "id": "yEsRvyrdnDdw",
        "outputId": "69d4931e-a7f7-416f-ca03-b33ea85141c1"
      },
      "outputs": [
        {
          "output_type": "stream",
          "name": "stderr",
          "text": [
            "\r[*********************100%***********************]  1 of 1 completed\n"
          ]
        }
      ],
      "source": [
        "import yfinance as yf\n",
        "import pandas as pd\n",
        "import numpy as np\n",
        "from datetime import datetime, timedelta\n",
        "import datetime as dt\n",
        "from numpy.core.fromnumeric import sort\n",
        "from numpy.core.fromnumeric import sort\n",
        "import shutil\n",
        "import git\n",
        "\n",
        "symbol = 'WALMEX.MX'\n",
        "start_date = '2001-01-01'\n",
        "\n",
        "df = yf.download(symbol, start = start_date)\n",
        "df = df.dropna()\n",
        "df = df.reset_index()\n",
        "df['Date'] = df['Date'].dt.tz_localize(None)"
      ]
    },
    {
      "cell_type": "code",
      "source": [
        "# Step 3: Save the DataFrame to a CSV file\n",
        "df.to_csv('stock_data.csv', index=False)\n",
        "\n",
        "# Step 4: Move the CSV file to the cloned GitHub repository folder\n",
        "shutil.move('stock_data.csv', '/content/Dip/stock_data.csv')"
      ],
      "metadata": {
        "id": "MQ0Nng0buF5g",
        "outputId": "5e18e03b-280c-4649-b375-20b731757472",
        "colab": {
          "base_uri": "https://localhost:8080/",
          "height": 36
        }
      },
      "execution_count": 15,
      "outputs": [
        {
          "output_type": "execute_result",
          "data": {
            "text/plain": [
              "'/content/Dip/stock_data.csv'"
            ],
            "application/vnd.google.colaboratory.intrinsic+json": {
              "type": "string"
            }
          },
          "metadata": {},
          "execution_count": 15
        }
      ]
    },
    {
      "cell_type": "code",
      "source": [
        "print(df)"
      ],
      "metadata": {
        "colab": {
          "base_uri": "https://localhost:8080/"
        },
        "id": "_D9rLWsynnoo",
        "outputId": "6275476d-6950-4845-fc9d-14c81bf91181"
      },
      "execution_count": 9,
      "outputs": [
        {
          "output_type": "stream",
          "name": "stdout",
          "text": [
            "Price        Date  Adj Close      Close       High        Low       Open  \\\n",
            "Ticker             WALMEX.MX  WALMEX.MX  WALMEX.MX  WALMEX.MX  WALMEX.MX   \n",
            "0      2003-01-01   4.272790   5.879949   5.946570   5.724499   5.724499   \n",
            "1      2003-01-02   4.272790   5.879949   5.946570   5.724499   5.724499   \n",
            "2      2003-01-03   4.267411   5.872546   5.909558   5.850339   5.872546   \n",
            "3      2003-01-06   4.435956   6.104487   6.116825   5.872546   5.872546   \n",
            "4      2003-01-07   4.333753   5.963842   6.104487   5.951505   6.104487   \n",
            "...           ...        ...        ...        ...        ...        ...   \n",
            "5531   2024-11-11  55.380001  55.380001  55.950001  55.020000  55.950001   \n",
            "5532   2024-11-12  55.730000  55.730000  56.090000  55.090000  55.279999   \n",
            "5533   2024-11-13  56.459999  56.459999  56.500000  55.200001  55.860001   \n",
            "5534   2024-11-14  54.950001  54.950001  56.700001  54.799999  56.630001   \n",
            "5535   2024-11-15  55.060001  55.060001  55.439999  54.810001  55.389999   \n",
            "\n",
            "Price     Volume  \n",
            "Ticker WALMEX.MX  \n",
            "0              0  \n",
            "1        8334330  \n",
            "2       18475096  \n",
            "3       16180223  \n",
            "4       15261074  \n",
            "...          ...  \n",
            "5531    15952094  \n",
            "5532    21379618  \n",
            "5533    20070215  \n",
            "5534    21665319  \n",
            "5535    14505205  \n",
            "\n",
            "[5536 rows x 7 columns]\n"
          ]
        }
      ]
    }
  ]
}